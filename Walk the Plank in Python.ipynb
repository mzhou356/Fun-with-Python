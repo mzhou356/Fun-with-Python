{
 "cells": [
  {
   "cell_type": "markdown",
   "metadata": {},
   "source": [
    "## Game Information##  \n",
    "\n",
    "### Requirements ###    \n",
    "* The computer must select a word at random from the list of available words \n",
    "  * source: downded the file, words_dictionary.json from [https://github.com/dwyl/english-words](https://github.com/dwyl/english-words)  \n",
    "* The game is interactive:\n",
    "  * At the start of the game, show the number of letters in the word using symbol \"-\"\n",
    "  * Chances is (26-number of unique letters in the word)/2, not given to the user\n",
    "  * Ask the user to supply one guess (i.e. letter) per round.\n",
    "  * The user should receive feedback immediately after each guess about whether their guess appears in the computer's word by displaying to the user the partially guessed word.  \n",
    "  * A user loses a chance when he/she guesses not a letter, repeats a letter, or guesses incorectly.\n",
    "  * A user doesn't lose a chance if he/she guesses correctly.\n",
    "  * The game ends when the user guesses the word correctly or runs out of guesses. \n",
    "  * If the player runs out of guesses, reveal the answer to the user. "
   ]
  },
  {
   "cell_type": "code",
   "execution_count": 1,
   "metadata": {},
   "outputs": [],
   "source": [
    "# downloaded the json file into the same directory as the jupyter notebook file\n",
    "# convert the json file into a list of words\n",
    "import json\n",
    "with open(\"words_dictionary.json\") as json_data:\n",
    "    d = json.load(json_data)\n",
    "words = list(d.keys())"
   ]
  },
  {
   "cell_type": "code",
   "execution_count": 2,
   "metadata": {},
   "outputs": [],
   "source": [
    "#helper function1, randomly select a word\n",
    "import random \n",
    "def loadwords(words):\n",
    "    '''\n",
    "    words: a list of unique english words\n",
    "    return a random word from the list as string\n",
    "    '''\n",
    "    return random.sample(words,1)[0]"
   ]
  },
  {
   "cell_type": "code",
   "execution_count": 3,
   "metadata": {},
   "outputs": [],
   "source": [
    "#helperfunction2, check if the lettersguesses match the answer \n",
    "def guesscorrect(lettersguessed,answer):\n",
    "    \"\"\"\n",
    "    lettersguessed: a list, all in lower case\n",
    "    answer: a string, random word from function loadwords(words)\n",
    "    returns: true or false\n",
    "    \"\"\"\n",
    "    for letter in answer.lower():\n",
    "        if letter not in lettersguessed:\n",
    "            return False\n",
    "    return True"
   ]
  },
  {
   "cell_type": "code",
   "execution_count": 4,
   "metadata": {},
   "outputs": [],
   "source": [
    "#helperfunction3, let the user know the status of the game (display letters guessed in the words)\n",
    "def display(lettersguessed,answer):\n",
    "    \"\"\"\n",
    "    lettersguessed: a list, all in lower case\n",
    "    answer: a string, random word from function loadwords(words)\n",
    "    returns: a display of words guessed and haven't guessed as string\n",
    "    \"\"\"\n",
    "    n = len(answer)\n",
    "    display = ''\n",
    "    for i in range(n):\n",
    "        if answer[i] in lettersguessed:\n",
    "            display+= answer[i]\n",
    "        else:\n",
    "            display+= \"-\"\n",
    "    return display\n",
    "#example\n",
    "#display(['a','p'],\"apple\")"
   ]
  },
  {
   "cell_type": "code",
   "execution_count": 5,
   "metadata": {},
   "outputs": [],
   "source": [
    "import string as str\n",
    "#actual interactive game using helper function1,2, and 3 \n",
    "def game(words):\n",
    "    \"\"\"\n",
    "    words: dictionary of english words as a list \n",
    "    print display of game updates\n",
    "    \"\"\"\n",
    "    answer = loadwords(words)\n",
    "    S= {letter for letter in answer} #get unique list of letters in the word\n",
    "    chances = int((26-len(S))/2) #set number of chances\n",
    "    lettersguessed =[] #starts with zero letter guessed \n",
    "    print (\"*-*-\"*24) #display only no meaning \n",
    "    print (\"You are walking the plank.\\nGuess the correct word and you will live.\")\n",
    "    while chances > 0:\n",
    "        punish = True #assumeguesswrong\n",
    "        print (\"Here is the word you are guessing %s.\"%\\\n",
    "          display(lettersguessed,answer)) #update the user the status of the game \n",
    "        guess = input(\"Guess an English letter \").strip()\n",
    "        if guess not in str.ascii_letters or guess == '': #just in case the guess is not an English letter \n",
    "            print(\"oops, please enter an English letter.\")\n",
    "            print (\"Sorry, you just lost a chance.\")\n",
    "        elif guess not in lettersguessed: #only update the list if the guess is not in the guessed letter already\n",
    "            lettersguessed.append(guess.lower())\n",
    "            if guesscorrect(lettersguessed, answer): #end the game early if the user guesses the correct word \n",
    "                print (\"Congratulations! You survived!\")\n",
    "                print (\"You won your freedom by guessing the word %s correctly!\"%\\\n",
    "                   display(lettersguessed,answer))\n",
    "                print (\"*-*-\"*24)\n",
    "                break\n",
    "            elif guess in answer: #nopunishment\n",
    "                punish = False\n",
    "        else:\n",
    "            print (\"Oops, you already entered that letter and please enter another letter.\") #let user know they already guessed the word\n",
    "            print (\"Sorry, you just lost a chance.\")\n",
    "        if punish:\n",
    "            chances -= 1\n",
    "        print (\"*-*-\"*24)\n",
    "    if chances <=0:\n",
    "        print (\"Sorry, you fell in the ocean.\")\n",
    "        print (\"Here is the word %s.\"%answer)\n",
    "        print (\"*-*-\"*24)"
   ]
  },
  {
   "cell_type": "code",
   "execution_count": null,
   "metadata": {},
   "outputs": [],
   "source": [
    "#Play the game\n",
    "game(words)"
   ]
  }
 ],
 "metadata": {
  "kernelspec": {
   "display_name": "Python 3",
   "language": "python",
   "name": "python3"
  },
  "language_info": {
   "codemirror_mode": {
    "name": "ipython",
    "version": 3
   },
   "file_extension": ".py",
   "mimetype": "text/x-python",
   "name": "python",
   "nbconvert_exporter": "python",
   "pygments_lexer": "ipython3",
   "version": "3.6.3"
  }
 },
 "nbformat": 4,
 "nbformat_minor": 2
}
